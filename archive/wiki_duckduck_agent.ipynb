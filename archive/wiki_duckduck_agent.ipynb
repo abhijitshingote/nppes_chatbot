{
 "cells": [
  {
   "cell_type": "code",
   "execution_count": 10,
   "id": "412d4850-e330-4308-9452-abff2667a058",
   "metadata": {},
   "outputs": [
    {
     "data": {
      "text/plain": [
       "True"
      ]
     },
     "execution_count": 10,
     "metadata": {},
     "output_type": "execute_result"
    }
   ],
   "source": [
    "from dotenv import load_dotenv\n",
    "from langchain_openai import ChatOpenAI\n",
    "from langchain_community.utilities import DuckDuckGoSearchAPIWrapper\n",
    "from langchain_community.tools import DuckDuckGoSearchResults\n",
    "from langchain import hub\n",
    "from langchain_core.prompts import PromptTemplate\n",
    "from langchain.agents import AgentType,AgentExecutor,initialize_agent, create_tool_calling_agent,sq\n",
    "from langchain.tools import WikipediaQueryRun\n",
    "from langchain_community.utilities import WikipediaAPIWrapper\n",
    "load_dotenv()"
   ]
  },
  {
   "cell_type": "code",
   "execution_count": 11,
   "id": "c023f1dc-20d6-45d9-86d2-e4ca2a684332",
   "metadata": {},
   "outputs": [],
   "source": [
    "from langchain.agents import create_react_agent"
   ]
  },
  {
   "cell_type": "code",
   "execution_count": 12,
   "id": "c74a165f-0518-4aaa-8fd9-6fbce34006f0",
   "metadata": {},
   "outputs": [],
   "source": [
    "wrapper = DuckDuckGoSearchAPIWrapper(region=\"de-de\", time=\"d\", max_results=2)\n",
    "search = DuckDuckGoSearchResults(api_wrapper=wrapper, source=\"news\")\n",
    "wikipedia = WikipediaQueryRun(api_wrapper=WikipediaAPIWrapper())"
   ]
  },
  {
   "cell_type": "code",
   "execution_count": 13,
   "id": "6361a833-bbd6-4fc2-b331-b65be6effaa6",
   "metadata": {},
   "outputs": [],
   "source": [
    "llm = ChatOpenAI(model=\"gpt-3.5-turbo\", temperature=0)\n",
    "tools = [search, wikipedia]"
   ]
  },
  {
   "cell_type": "code",
   "execution_count": 14,
   "id": "36b33fe1-8b46-4291-863f-02dce8ef654d",
   "metadata": {},
   "outputs": [],
   "source": [
    "template = \"\"\" Answer the following questions as best you can. You have access to the following tools:\n",
    "\n",
    "{tools}\n",
    "\n",
    "Use the following format:\n",
    "\n",
    "Question: the input question you must answer\n",
    "\n",
    "Thought: you should always think about what to do\n",
    "\n",
    "Action: the action to take, should be one of [{tool_names}]\n",
    "\n",
    "Action Input: the input to the action\n",
    "\n",
    "Observation: the result of the action\n",
    "\n",
    "... (this Thought/Action/Action Input/Observation can repeat N times)\n",
    "\n",
    "Thought: I now know the final answer\n",
    "\n",
    "Final Answer: the final answer to the original input question\n",
    "\n",
    "Begin!\n",
    "\n",
    "Question: {input}\n",
    "\n",
    "Thought:{agent_scratchpad}\n",
    "\"\"\"\n",
    "prompt=PromptTemplate.from_template(template)"
   ]
  },
  {
   "cell_type": "code",
   "execution_count": 15,
   "id": "3af9d67c-4202-4bc0-bce8-dbcdd6bdeec2",
   "metadata": {},
   "outputs": [],
   "source": [
    "agent = create_react_agent(llm,tools,prompt)"
   ]
  },
  {
   "cell_type": "code",
   "execution_count": 16,
   "id": "2d939368-9c30-47d3-9693-a8135243778f",
   "metadata": {},
   "outputs": [],
   "source": [
    "agent_executor = AgentExecutor(agent=agent, tools=tools, handle_parsing_errors=True,verbose=True)"
   ]
  },
  {
   "cell_type": "code",
   "execution_count": 18,
   "id": "da05a2a0-917c-4f92-b717-c9dfef519009",
   "metadata": {},
   "outputs": [
    {
     "name": "stdout",
     "output_type": "stream",
     "text": [
      "\n",
      "\n",
      "\u001b[1m> Entering new AgentExecutor chain...\u001b[0m\n",
      "\u001b[32;1m\u001b[1;3mI should first find out how many players are in a cricket team and compare it to ice hockey. Then, I should look up the result of the last cricket match.\n",
      "\n",
      "Action: wikipedia\n",
      "Action Input: \"Cricket\"\u001b[0m\u001b[33;1m\u001b[1;3mPage: Cricket\n",
      "Summary: Cricket is a bat-and-ball game that is played between two teams of eleven players on a field at the centre of which is a 22-yard (20-metre) pitch with a wicket at each end, each comprising two bails balanced on three stumps. Two players from the batting team (the striker and nonstriker) stand in front of either wicket, with one player from the fielding team (the bowler) bowling the ball towards the striker's wicket from the opposite end of the pitch. The striker's goal is to hit the bowled ball and then switch places with the nonstriker, with the batting team scoring one run for each exchange. Runs are also scored when the ball reaches or crosses the boundary of the field or when the ball is bowled illegally.\n",
      "The fielding team tries to prevent runs from being scored by dismissing batters (so they are \"out\"). Means of dismissal include being bowled, when the ball hits the striker's wicket and dislodges the bails, and by the fielding side either catching the ball after it is hit by the bat, but before it hits the ground, or hitting a wicket with the ball before a batter can cross the crease in front of the wicket. When ten batters have been dismissed, the innings ends and the teams swap roles. Forms of cricket range from Twenty20 (also known as T20), with each team batting for a single innings of 20 overs (each \"over\" being a set of 6 fair opportunities for the batting team to score) and the game generally lasting three to four hours, to Test matches played over five days.\n",
      "Traditionally cricketers play in all-white kit, but in limited overs cricket they wear club or team colours. In addition to the basic kit, some players wear protective gear to prevent injury caused by the ball, which is a hard, solid spheroid made of compressed leather with a slightly raised sewn seam enclosing a cork core layered with tightly wound string.\n",
      "The earliest known definite reference to cricket is to it being played in South East England in the mid-16th century. It spread globally with the expansion of the British Empire, with the first international matches in the second half of the 19th century. The game's governing body is the International Cricket Council (ICC), which has over 100 members, twelve of which are full members who play Test matches. The game's rules, the Laws of Cricket, are maintained by Marylebone Cricket Club (MCC) in London. The sport is followed primarily in South Asia, Australia, New Zealand, the United Kingdom, Southern Africa and the West Indies.\n",
      "Women's cricket, which is organised and played separately, has also achieved international standard.\n",
      "The most successful side playing international cricket is Australia, which has won eight One Day International trophies, including six World Cups, more than any other country and has been the top-rated Test side more than any other country.\n",
      "\n",
      "\n",
      "\n",
      "Page: Pakistan national cricket team\n",
      "Summary: The Pakistan national cricket team (Urdu: پاکستان قومی کرکٹ ٹیم), has represented Pakistan in international cricket since 1952. It is controlled by the Pakistan Cricket Board (PCB), the governing body for cricket in Pakistan, which is a Full Member of the International Cricket Council (ICC). Pakistan compete in cricket tours and tournaments sanctioned by the PCB and other regional or international cricket bodies in Test, One Day International (ODI), and Twenty20 International (T20) formats. Pakistan are current ICC Champions Trophy holders.\n",
      "Pakistan were given Test status in 1952 following a recommendation from India, but faced limited international success until the 1980s, when they became fixtures in the latter stages of tournaments. They won their first international trophy, the ICC World Cup, in 1992, and then won the Asia Cup in 2000. They saw increased success in the 21st century, winning the T20 World Cup in 2009, the Asia Cup in 2012, and ICC Champions Trophy in 2017. Pakistan won the first Asian Test Championship in 1999, and was the fourth team to win the now-defunct \u001b[0m\u001b[32;1m\u001b[1;3mI need to find out how many players are in a cricket team.\n",
      "\n",
      "Action: wikipedia\n",
      "Action Input: \"Cricket team\"\u001b[0m\u001b[33;1m\u001b[1;3mPage: Pakistan national cricket team\n",
      "Summary: The Pakistan national cricket team (Urdu: پاکستان قومی کرکٹ ٹیم), has represented Pakistan in international cricket since 1952. It is controlled by the Pakistan Cricket Board (PCB), the governing body for cricket in Pakistan, which is a Full Member of the International Cricket Council (ICC). Pakistan compete in cricket tours and tournaments sanctioned by the PCB and other regional or international cricket bodies in Test, One Day International (ODI), and Twenty20 International (T20) formats. Pakistan are current ICC Champions Trophy holders.\n",
      "Pakistan were given Test status in 1952 following a recommendation from India, but faced limited international success until the 1980s, when they became fixtures in the latter stages of tournaments. They won their first international trophy, the ICC World Cup, in 1992, and then won the Asia Cup in 2000. They saw increased success in the 21st century, winning the T20 World Cup in 2009, the Asia Cup in 2012, and ICC Champions Trophy in 2017. Pakistan won the first Asian Test Championship in 1999, and was the fourth team to win the now-defunct ICC Test Championship in 2016. Pakistan have the second-highest win percentage in international T20 cricket (with a minimum of 150 games played), the fourth-highest win percentage in ODI cricket, and the fourth-best win-loss ratio in Test cricket (both with a minimum of 400 games played).\n",
      "Pakistan has been plagued by security concerns and domestic instability due to terrorism and the war on terror, restricting it as a venue for international cricket in the 21st century. Despite hosting the 1987 and 1996 World Cups (with the 1996 final played in Lahore), cricket was not played in the country after an attack against the Sri Lanka national team in 2009; Pakistan then played one-day games in the United Arab Emirates until 2016 and Test games in the UAE until 2019. International cricket was resumed in Pakistan from 2016, which coincided with the debut of the Pakistan Super League, following improvements in security and overall reduction in terrorism.\n",
      "\n",
      "Page: India national cricket team\n",
      "Summary: The India men's national cricket team represents India in men's international cricket. It is governed by the Board of Control for Cricket in India (BCCI), and is a Full Member of the International Cricket Council (ICC) with Test, One Day International (ODI) and Twenty20 International (T20I) status.\n",
      "The team played its first international match on 25 June 1932 in a Test against England at Lord's Cricket Ground in London, becoming the sixth team to be granted Test cricket status. India's first Test victory was in 1952, and success was limited in the team's first fifty years of international cricket, with only 35 wins in 196 Tests. However, they gained strength in the 1970s with the emergence of the Indian spin quartet, and players like Sunil Gavaskar, Gundappa Viswanath, and Kapil Dev. In men's limited-overs cricket, India made its ODI debut against England in 1974 and its T20I debut against South Africa in 2006.\n",
      "India's men's national cricket team has won five major ICC tournaments, winning the Cricket World Cup twice (1983 and 2011), the ICC T20 World Cup once (2007) and the ICC Champions Trophy twice (2002 and 2013). They have also finished as runners-up in the World Cup twice (2003 and 2023), the T20 World Cup once (2014), the Champions Trophy twice (2000 and 2017) and the ICC World Test Championship finals in the first two editions (2021, 2023). India was the second team (after the West Indies) to win the World Cup, and the first to win the competition on home soil after winning it in 2011.\n",
      "They have won the Asia Cup eight times, in 1984, 1988, 1990‍–‍91, 1995, 2010, 2016, 2018 and 2023; and have finished runners-up three times (1997, 2004, 2008). India also won a gold medal in the 2022 Asian Games. Other achievements include winning the ICC Test Championship Mace five times and the ICC ODI Championship Shield once. As of\u001b[0m\u001b[32;1m\u001b[1;3mI need to find out how many players are in a cricket team.\n",
      "\n",
      "Action: wikipedia\n",
      "Action Input: \"Cricket team\"\u001b[0m\u001b[33;1m\u001b[1;3mPage: Pakistan national cricket team\n",
      "Summary: The Pakistan national cricket team (Urdu: پاکستان قومی کرکٹ ٹیم), has represented Pakistan in international cricket since 1952. It is controlled by the Pakistan Cricket Board (PCB), the governing body for cricket in Pakistan, which is a Full Member of the International Cricket Council (ICC). Pakistan compete in cricket tours and tournaments sanctioned by the PCB and other regional or international cricket bodies in Test, One Day International (ODI), and Twenty20 International (T20) formats. Pakistan are current ICC Champions Trophy holders.\n",
      "Pakistan were given Test status in 1952 following a recommendation from India, but faced limited international success until the 1980s, when they became fixtures in the latter stages of tournaments. They won their first international trophy, the ICC World Cup, in 1992, and then won the Asia Cup in 2000. They saw increased success in the 21st century, winning the T20 World Cup in 2009, the Asia Cup in 2012, and ICC Champions Trophy in 2017. Pakistan won the first Asian Test Championship in 1999, and was the fourth team to win the now-defunct ICC Test Championship in 2016. Pakistan have the second-highest win percentage in international T20 cricket (with a minimum of 150 games played), the fourth-highest win percentage in ODI cricket, and the fourth-best win-loss ratio in Test cricket (both with a minimum of 400 games played).\n",
      "Pakistan has been plagued by security concerns and domestic instability due to terrorism and the war on terror, restricting it as a venue for international cricket in the 21st century. Despite hosting the 1987 and 1996 World Cups (with the 1996 final played in Lahore), cricket was not played in the country after an attack against the Sri Lanka national team in 2009; Pakistan then played one-day games in the United Arab Emirates until 2016 and Test games in the UAE until 2019. International cricket was resumed in Pakistan from 2016, which coincided with the debut of the Pakistan Super League, following improvements in security and overall reduction in terrorism.\n",
      "\n",
      "Page: India national cricket team\n",
      "Summary: The India men's national cricket team represents India in men's international cricket. It is governed by the Board of Control for Cricket in India (BCCI), and is a Full Member of the International Cricket Council (ICC) with Test, One Day International (ODI) and Twenty20 International (T20I) status.\n",
      "The team played its first international match on 25 June 1932 in a Test against England at Lord's Cricket Ground in London, becoming the sixth team to be granted Test cricket status. India's first Test victory was in 1952, and success was limited in the team's first fifty years of international cricket, with only 35 wins in 196 Tests. However, they gained strength in the 1970s with the emergence of the Indian spin quartet, and players like Sunil Gavaskar, Gundappa Viswanath, and Kapil Dev. In men's limited-overs cricket, India made its ODI debut against England in 1974 and its T20I debut against South Africa in 2006.\n",
      "India's men's national cricket team has won five major ICC tournaments, winning the Cricket World Cup twice (1983 and 2011), the ICC T20 World Cup once (2007) and the ICC Champions Trophy twice (2002 and 2013). They have also finished as runners-up in the World Cup twice (2003 and 2023), the T20 World Cup once (2014), the Champions Trophy twice (2000 and 2017) and the ICC World Test Championship finals in the first two editions (2021, 2023). India was the second team (after the West Indies) to win the World Cup, and the first to win the competition on home soil after winning it in 2011.\n",
      "They have won the Asia Cup eight times, in 1984, 1988, 1990‍–‍91, 1995, 2010, 2016, 2018 and 2023; and have finished runners-up three times (1997, 2004, 2008). India also won a gold medal in the 2022 Asian Games. Other achievements include winning the ICC Test Championship Mace five times and the ICC ODI Championship Shield once. As of\u001b[0m\u001b[32;1m\u001b[1;3mI should now look up how many players are in an ice hockey team and compare it to cricket.\n",
      "\n",
      "Action: wikipedia\n",
      "Action Input: \"Ice hockey team\"\u001b[0m\u001b[33;1m\u001b[1;3mPage: Ice hockey\n",
      "Summary: Ice hockey (or simply hockey) is a team sport played on ice skates, usually on an ice skating rink with lines and markings specific to the sport. It belongs to a family of sports called hockey. In ice hockey, two opposing teams use ice hockey sticks to control, advance, and shoot a closed, vulcanized, rubber disc called a \"puck\" into the other team's goal. Each goal is worth one point. The team which scores the most goals is declared the winner. In a formal game, each team has six skaters on the ice at a time, barring any penalties, one of whom is the goaltender. Ice hockey is a full contact sport, and is considered to be one of the more physically demanding team sports. It is distinct from field hockey, in which players move a ball around a non-frozen pitch using field hockey sticks.\n",
      "The modern sport of ice hockey was developed in Canada, most notably in Montreal, where the first indoor game was played on March 3, 1875. Some characteristics of that game, such as the length of the ice rink and the use of a puck, have been retained to this day. Amateur ice hockey leagues began in the 1880s, and professional ice hockey originated around 1900. The Stanley Cup, emblematic of ice hockey club supremacy, was initially commissioned in 1892 as the \"Dominion Hockey Challenge Cup\" and was first awarded in 1893 to recognise the Canadian amateur champion and later became the championship trophy of the National Hockey League (NHL). In the early 1900s, the Canadian rules were adopted by the Ligue Internationale de Hockey sur Glace, in Paris, France, the precursor of the IIHF. The sport was played for the first time at the Olympics during the 1920 Summer Olympics—today it is a mainstay at the Winter Olympics. In 1994 ice hockey was officially recognized as Canada's national winter sport.\n",
      "\n",
      "While women also played during the game's early formative years, it was not until organizers began to officially remove body checking from female ice hockey beginning in the mid-1980s that it began to gain greater popularity, which by then had spread to Europe and a variety of other countries. The first IIHF Women's World Championship was held in 1990, and women's play was introduced into the Olympics in 1998.\n",
      "\n",
      "Page: Canada women's national ice hockey team\n",
      "Summary: The Canadian women's national ice hockey team is the ice hockey team representing Canada in women's hockey. The team is overseen by Hockey Canada, a member of the International Ice Hockey Federation and participates in international competitions. Canada has been a dominant figure in international competition, having won the majority of major ice hockey tournaments. Canada is rivaled by the United States, the only other winner of a major tournament.\n",
      "\n",
      "Page: Miracle on Ice\n",
      "Summary: The \"Miracle on Ice\" was an ice hockey game during the 1980 Winter Olympics in Lake Placid, New York. It was played between the hosting United States and the Soviet Union on February 22, 1980, during the medal round of the men's hockey tournament. Though the Soviet Union was a four-time defending gold medalist and heavily favored, the United States upset them and won 4–3.\n",
      "The Soviet Union had won the gold medal in five of the six previous Winter Olympic Games, and they were the favorites to win once more in Lake Placid. The Soviet team consisted primarily of full-time players (professional in all but name) with significant experience in international play. By contrast, the United States team, led by head coach Herb Brooks, was composed mostly of amateur players, with only four players with minimal minor-league experience.  The United States had the youngest team in the tournament and in U.S. national team history.\n",
      "In the group stage, both the Soviet and U.S. teams were unbeaten; the U.S. achieved several surprising results, including a 2–2 draw against Sweden, and a 7–3 upset victory over second-place favorite Czechoslovakia.\n",
      "For the first game in the medal round, the United States played the Sovi\u001b[0m\u001b[32;1m\u001b[1;3mI should now look up how many players are in an ice hockey team and compare it to cricket.\n",
      "\n",
      "Action: wikipedia\n",
      "Action Input: \"Ice hockey team\"\u001b[0m\u001b[33;1m\u001b[1;3mPage: Ice hockey\n",
      "Summary: Ice hockey (or simply hockey) is a team sport played on ice skates, usually on an ice skating rink with lines and markings specific to the sport. It belongs to a family of sports called hockey. In ice hockey, two opposing teams use ice hockey sticks to control, advance, and shoot a closed, vulcanized, rubber disc called a \"puck\" into the other team's goal. Each goal is worth one point. The team which scores the most goals is declared the winner. In a formal game, each team has six skaters on the ice at a time, barring any penalties, one of whom is the goaltender. Ice hockey is a full contact sport, and is considered to be one of the more physically demanding team sports. It is distinct from field hockey, in which players move a ball around a non-frozen pitch using field hockey sticks.\n",
      "The modern sport of ice hockey was developed in Canada, most notably in Montreal, where the first indoor game was played on March 3, 1875. Some characteristics of that game, such as the length of the ice rink and the use of a puck, have been retained to this day. Amateur ice hockey leagues began in the 1880s, and professional ice hockey originated around 1900. The Stanley Cup, emblematic of ice hockey club supremacy, was initially commissioned in 1892 as the \"Dominion Hockey Challenge Cup\" and was first awarded in 1893 to recognise the Canadian amateur champion and later became the championship trophy of the National Hockey League (NHL). In the early 1900s, the Canadian rules were adopted by the Ligue Internationale de Hockey sur Glace, in Paris, France, the precursor of the IIHF. The sport was played for the first time at the Olympics during the 1920 Summer Olympics—today it is a mainstay at the Winter Olympics. In 1994 ice hockey was officially recognized as Canada's national winter sport.\n",
      "\n",
      "While women also played during the game's early formative years, it was not until organizers began to officially remove body checking from female ice hockey beginning in the mid-1980s that it began to gain greater popularity, which by then had spread to Europe and a variety of other countries. The first IIHF Women's World Championship was held in 1990, and women's play was introduced into the Olympics in 1998.\n",
      "\n",
      "Page: Canada women's national ice hockey team\n",
      "Summary: The Canadian women's national ice hockey team is the ice hockey team representing Canada in women's hockey. The team is overseen by Hockey Canada, a member of the International Ice Hockey Federation and participates in international competitions. Canada has been a dominant figure in international competition, having won the majority of major ice hockey tournaments. Canada is rivaled by the United States, the only other winner of a major tournament.\n",
      "\n",
      "Page: Miracle on Ice\n",
      "Summary: The \"Miracle on Ice\" was an ice hockey game during the 1980 Winter Olympics in Lake Placid, New York. It was played between the hosting United States and the Soviet Union on February 22, 1980, during the medal round of the men's hockey tournament. Though the Soviet Union was a four-time defending gold medalist and heavily favored, the United States upset them and won 4–3.\n",
      "The Soviet Union had won the gold medal in five of the six previous Winter Olympic Games, and they were the favorites to win once more in Lake Placid. The Soviet team consisted primarily of full-time players (professional in all but name) with significant experience in international play. By contrast, the United States team, led by head coach Herb Brooks, was composed mostly of amateur players, with only four players with minimal minor-league experience.  The United States had the youngest team in the tournament and in U.S. national team history.\n",
      "In the group stage, both the Soviet and U.S. teams were unbeaten; the U.S. achieved several surprising results, including a 2–2 draw against Sweden, and a 7–3 upset victory over second-place favorite Czechoslovakia.\n",
      "For the first game in the medal round, the United States played the Sovi\u001b[0m\u001b[32;1m\u001b[1;3mI should now look up the result of the last cricket match.\n",
      "\n",
      "Action: duckduckgo_results_json\n",
      "Action Input: \"last cricket match result\"\u001b[0m\u001b[36;1m\u001b[1;3m[snippet: Welcome to highlights of the Lucknow Super Giants vs Rajasthan Royals IPL 2024 match at Ekana Cricket Stadium in Lucknow. April 27, 2024 23:18. ... Last result: Lucknow Super Giants went down by 20 runs (Jaipur; March 24, 2024) April 27, 2024 16:44. FOLLOW DC vs MI LIVE UPDATES, title: LSG vs RR highlights, IPL 2024: Rajasthan Royals defeats ... - Sportstar, link: https://sportstar.thehindu.com/cricket/ipl/ipl-news/lsg-vs-rr-live-score-match-updates-lucknow-super-giants-rajasthan-royals-ipl-2024-match-streaming-info-highlights/article68113802.ece], [snippet: Right then that's it from the Final game of the 5-match T20I series between New Zealand and Pakistan. Both the captains share the trophy. After the opening game being washed out the two sides ..., title: Live Cricket Score Pakistan vs New Zealand, 5th T20I, link: https://timesofindia.indiatimes.com/sports/cricket/live-cricket-score-pak-vs-nz-today-27th-april-pakistan-vs-new-zealand-live-score-updates/liveblog/109651162.cms], [snippet: Yash Thakur has bowled a 10-run over. He bowled the over smartly and LSG are still alive in this game. Rajasthan Royals need 27 runs in 18 balls. The asking rate is 9 per over from here. One good ..., title: LSG vs RR Live Score, IPL 2024: LSG Denied A Single By Umpire Due To ..., link: https://sports.ndtv.com/ipl-2024/lsg-vs-rr-live-score-ipl-2024-44th-match-today-lucknow-super-giants-vs-rajasthan-royals-live-scorecard-5535603], [snippet: LSG vs RR IPL 2024 Live Score, Match Updates and Highlights ... Match: IPL 2024, 44th T20 match. Venue: Ekana Cricket Stadium in Lucknow. Date & Time: Saturday, April 27 at 7:30 PM IST ..., title: LSG vs RR Live Score IPL 2024: Lucknow Super Giants vs Rajasthan Royals ..., link: https://www.indiatvnews.com/sports/cricket/lsg-vs-rr-ipl-t20-live-cricket-match-score-updates-today-ekana-cricket-stadium-lucknow-super-giants-vs-rajasthan-royals-live-score-blog-928316]\u001b[0m\u001b[32;1m\u001b[1;3mFinal Answer: A cricket team consists of eleven players, while an ice hockey team has six skaters on the ice at a time. The last cricket match result was that Lucknow Super Giants went down by 20 runs to Rajasthan Royals on March 24, 2024.\u001b[0m\n",
      "\n",
      "\u001b[1m> Finished chain.\u001b[0m\n"
     ]
    },
    {
     "data": {
      "text/plain": [
       "{'input': \"How many players in cricket and how does it compare to ice hockey. Also what was the last cricket match's result\",\n",
       " 'output': 'A cricket team consists of eleven players, while an ice hockey team has six skaters on the ice at a time. The last cricket match result was that Lucknow Super Giants went down by 20 runs to Rajasthan Royals on March 24, 2024.'}"
      ]
     },
     "execution_count": 18,
     "metadata": {},
     "output_type": "execute_result"
    }
   ],
   "source": [
    "agent_executor.invoke({\"input\": \"How many players in cricket and how does it compare to ice hockey. Also what was the last cricket match's result\"})\n",
    "\n"
   ]
  },
  {
   "cell_type": "code",
   "execution_count": null,
   "id": "aa79e74b-6d72-40cb-bdba-0b15e7f1aadf",
   "metadata": {},
   "outputs": [],
   "source": []
  }
 ],
 "metadata": {
  "kernelspec": {
   "display_name": "Python 3 (ipykernel)",
   "language": "python",
   "name": "python3"
  },
  "language_info": {
   "codemirror_mode": {
    "name": "ipython",
    "version": 3
   },
   "file_extension": ".py",
   "mimetype": "text/x-python",
   "name": "python",
   "nbconvert_exporter": "python",
   "pygments_lexer": "ipython3",
   "version": "3.12.1"
  }
 },
 "nbformat": 4,
 "nbformat_minor": 5
}
